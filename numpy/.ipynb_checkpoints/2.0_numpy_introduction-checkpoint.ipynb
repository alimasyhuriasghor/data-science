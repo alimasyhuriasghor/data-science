{
 "cells": [
  {
   "cell_type": "markdown",
   "id": "b00eb775-0fd3-440f-8f18-aafff73057b7",
   "metadata": {},
   "source": [
    "# Introduction To NumPy\n",
    "NumPy is the fundamental package for scientific computing in Python. NumPy (short for Numerical Python) is a Python library that provides multidimensional array object (a general term for one or more dimensions array), vectorized operations, including mathematical logical, shape manipulation, sorting, etc.\n",
    "\n",
    "At the core of the NumPy package is, the `ndarray` object. This encapsulates n-dimensional arrays of homogeneous data type, with many operations being performed in compiled code for performance. In some ways, NumPy arrays are like Python's built-in `list` type, but NumPy arrays provide much more efficient storage and operations as the arrays grow larger in size. For instance:"
   ]
  },
  {
   "cell_type": "code",
   "execution_count": 2,
   "id": "48a169cc-e60e-406d-99fa-9867d6387bf4",
   "metadata": {},
   "outputs": [],
   "source": [
    "# Import the NumPy package and set the alias name to np\n",
    "import numpy as np\n",
    "\n",
    "# Import the getsizeof function from sys module\n",
    "from sys import getsizeof"
   ]
  },
  {
   "cell_type": "code",
   "execution_count": 3,
   "id": "5bc6e48a-9b85-4bef-aba4-b52981a54db9",
   "metadata": {},
   "outputs": [],
   "source": [
    "# Create a list with 100 elements\n",
    "my_list = list(range(1, 100 + 1))"
   ]
  },
  {
   "cell_type": "code",
   "execution_count": 4,
   "id": "84d65b5b-97c1-46c6-96a3-6099b8649bf6",
   "metadata": {},
   "outputs": [],
   "source": [
    "# Create an array with 100 elements\n",
    "my_array = np.arange(1, 100 + 1)"
   ]
  },
  {
   "cell_type": "code",
   "execution_count": 6,
   "id": "bd9b6f0d-1b50-4336-ad23-16810cc542cd",
   "metadata": {},
   "outputs": [
    {
     "name": "stdout",
     "output_type": "stream",
     "text": [
      "my_list consumed memory for about = 856 bytes\n",
      "my_array consumed memory for aboyt = 400 bytes\n"
     ]
    }
   ],
   "source": [
    "# Check the memory consumption of both list and array\n",
    "print(f\"my_list consumed memory for about = {getsizeof(my_list)} bytes\")\n",
    "print(f\"my_array consumed memory for aboyt = {my_array.nbytes} bytes\")"
   ]
  },
  {
   "cell_type": "code",
   "execution_count": 7,
   "id": "791c5716-1866-4643-82d3-b62b48cf18c3",
   "metadata": {},
   "outputs": [
    {
     "name": "stdout",
     "output_type": "stream",
     "text": [
      "3.65 µs ± 69.1 ns per loop (mean ± std. dev. of 7 runs, 100,000 loops each)\n"
     ]
    }
   ],
   "source": [
    "%timeit list_comp = [num + 2 for num in my_list]"
   ]
  },
  {
   "cell_type": "code",
   "execution_count": 8,
   "id": "728c6812-1049-461f-b9ca-960ca8ff1e5d",
   "metadata": {},
   "outputs": [
    {
     "name": "stdout",
     "output_type": "stream",
     "text": [
      "1.25 µs ± 12.4 ns per loop (mean ± std. dev. of 7 runs, 1,000,000 loops each)\n"
     ]
    }
   ],
   "source": [
    "%timeit my_array + 2"
   ]
  },
  {
   "cell_type": "markdown",
   "id": "2df52bac-0de9-4007-99dd-1c36673589d4",
   "metadata": {},
   "source": [
    "In summary, NumPy array provide much more efficient storage and operations, whereas Python's built-in `list` type doesn't provide efficient storage and operations. For more comprhensive information, you can also check to NumPy's documentation: [numpy.org](https://numpy.org/doc/stable/user/whatisnumpy.html#whatisnumpy)."
   ]
  }
 ],
 "metadata": {
  "kernelspec": {
   "display_name": "Python 3 (ipykernel)",
   "language": "python",
   "name": "python3"
  },
  "language_info": {
   "codemirror_mode": {
    "name": "ipython",
    "version": 3
   },
   "file_extension": ".py",
   "mimetype": "text/x-python",
   "name": "python",
   "nbconvert_exporter": "python",
   "pygments_lexer": "ipython3",
   "version": "3.12.7"
  }
 },
 "nbformat": 4,
 "nbformat_minor": 5
}
