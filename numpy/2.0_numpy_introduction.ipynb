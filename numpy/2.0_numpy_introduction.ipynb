{
 "cells": [
  {
   "cell_type": "markdown",
   "id": "b00eb775-0fd3-440f-8f18-aafff73057b7",
   "metadata": {},
   "source": [
    "# Introduction To NumPy\n",
    "NumPy is the fundamental package for scientific computing in Python. NumPy (short for Numerical Python) is a Python library that provides multidimensional array object (a general term for one or more dimensions in an array), vectorized operations, mathematical logical, shape manipulation, sorting, etc.\n",
    "\n",
    "At the core of the NumPy package, is the `ndarray` object. This encapsulates n-dimensional arrays of homogeneous data type, with many operations being performed in compiled code for performance. There are several differences between NumPy arrays and Python's built-in `list` type:\n",
    "- NumPy arrays have a fixed size creation.\n",
    "- All of the elements in NumPy arrays required to be of the same data type, thus will be the same size in memory.\n",
    "- NumPy arrays facilitate advanced mathematical and other type of operations on large numbers of data. Typically, such operations are executed more efficiently and less code compared to Python's built-in `list`.\n",
    "\n",
    "Here are the code differences between NumPy arrays and Python's built-in `list` type:"
   ]
  },
  {
   "cell_type": "code",
   "execution_count": 1,
   "id": "eb9978c7-4bfb-4d99-a9be-c8c6efa67f7f",
   "metadata": {},
   "outputs": [],
   "source": [
    "# Import the numpy package and set the alias name to np\n",
    "import numpy as np\n",
    "\n",
    "# Import the sys module to used the getsizeof function\n",
    "from sys import getsizeof"
   ]
  },
  {
   "cell_type": "code",
   "execution_count": 2,
   "id": "749714f0-54bd-4023-83dd-de748fa2ca9c",
   "metadata": {},
   "outputs": [],
   "source": [
    "# Create a lists object\n",
    "my_list1 = list(range(1, 100))\n",
    "my_list2 = list(range(1, 100))"
   ]
  },
  {
   "cell_type": "code",
   "execution_count": 3,
   "id": "f22a3c14-3e9c-4ad1-914c-119399f4eaa1",
   "metadata": {},
   "outputs": [],
   "source": [
    "# Create a NumPy arrays object\n",
    "my_array1 = np.arange(1, 100)\n",
    "my_array2 = np.arange(1, 100)"
   ]
  },
  {
   "cell_type": "code",
   "execution_count": 4,
   "id": "ca0ea815-f4e3-4460-b40d-cd63dddb5838",
   "metadata": {},
   "outputs": [
    {
     "name": "stdout",
     "output_type": "stream",
     "text": [
      "my_list1 consumed memory for about = 856 Bytes\n",
      "my_array1 consumed memory for about = 396 Bytes\n"
     ]
    }
   ],
   "source": [
    "# Check the memory consumptions of both data structures object\n",
    "print(f\"my_list1 consumed memory for about = {getsizeof(my_list1)} Bytes\")\n",
    "print(f\"my_array1 consumed memory for about = {my_array1.nbytes} Bytes\")"
   ]
  },
  {
   "cell_type": "code",
   "execution_count": 5,
   "id": "b90a679d-d30d-4f72-83cc-0c17bd21c59d",
   "metadata": {},
   "outputs": [
    {
     "name": "stdout",
     "output_type": "stream",
     "text": [
      "685 ns ± 9 ns per loop (mean ± std. dev. of 7 runs, 1,000,000 loops each)\n"
     ]
    }
   ],
   "source": [
    "# Benchmarking the NumPy arrays speed object to do mathematical operation\n",
    "%timeit array_result = my_array1 * my_array2"
   ]
  },
  {
   "cell_type": "markdown",
   "id": "2ea9f7c7-2ac3-48a2-8d70-b18e9a5303bd",
   "metadata": {},
   "source": [
    "## NumPy Array Benchmark\n",
    "- **%timeit**: The %timeit magic command in Jupyter notebooks is used to measure the execution time of a single line of code. It automatically runs the code multiple times to provide a more reliable measurement by averaging over multiple iterations.\n",
    "\n",
    "- **array_result = my_array1 * my_array2**: This is the code being timed. Here, my_array1 and my_array2 are assumed to be NumPy arrays, and the `*` operator performs element-wise multiplication between them. NumPy is highly optimized for such operations, which explains the faster performance compared to lists.\n",
    "\n",
    "- **685 ns ± 9 ns per loop**:\n",
    "\n",
    "    - 685 ns: This is the average time taken per loop (or per execution of the line of code) over multiple iterations. The time unit here, ns, stands for nanoseconds (1 billionth of a second).\n",
    "\n",
    "    - ± 9 ns: This is the standard deviation, indicating how much variation there was between individual runs. A smaller standard deviation means more consistent results.\n",
    "\n",
    "- **7 runs, 1,000,000 loops each**:\n",
    "\n",
    "    - 7 runs: The %timeit command ran the code seven separate times, calculating an average execution time across these runs.\n",
    "\n",
    "    - 1,000,000 loops each: During each of the 7 runs, the code was executed 1,000,000 times to further refine the timing measurement, yielding a high degree of accuracy in the reported timing.\n",
    "\n",
    "Reference: ChatGpt."
   ]
  },
  {
   "cell_type": "code",
   "execution_count": 7,
   "id": "104dd977-6c51-4f43-a8ed-0e04c8f46496",
   "metadata": {},
   "outputs": [
    {
     "name": "stdout",
     "output_type": "stream",
     "text": [
      "8.57 µs ± 146 ns per loop (mean ± std. dev. of 7 runs, 100,000 loops each)\n"
     ]
    }
   ],
   "source": [
    "# Benchmarking the Lists speed object to do mathematical operation\n",
    "%%timeit\n",
    "result = []\n",
    "for i in range(len(my_list1)):\n",
    "    result.append(my_list1[i] * my_list2[i])"
   ]
  },
  {
   "cell_type": "markdown",
   "id": "da212a7b-830c-49b2-94f5-468b5a65b47c",
   "metadata": {},
   "source": [
    "## Python List Benchmark\n",
    "- **%%timeit**: The %%timeit cell magic command is used to measure the execution time of multiple lines of code in a Jupyter cell.\n",
    "\n",
    "- **result = [] ... result.append(my_list1[i] * my_list2[i])**:\n",
    "    - This is the code being measured. Here, my_list1 and my_list2 are standard Python lists, and this block creates a new list, result, to store the product of each corresponding element in my_list1 and my_list2.\n",
    "  \n",
    "    - The code loops over the indices of the lists and appends the product of each pair of elements to result.\n",
    " \n",
    "    - Since Python lists are not optimized for element-wise mathematical operations, this approach is notably slower than the equivalent NumPy array operation.\n",
    " \n",
    "- 8.57 µs ± 146 ns per loop:\n",
    "\n",
    "    - 8.57 µs: The average time taken per loop here is 8.57 microseconds. µs is the unit for microseconds (1 millionth of a second).\n",
    "\n",
    "    - ± 146 ns: The standard deviation here is 146 nanoseconds, reflecting the variability in execution times.\n",
    "\n",
    "- 7 runs, 100,000 loops each:\n",
    "\n",
    "    - 7 runs: This code was run 7 times to gather multiple measurements.\n",
    "\n",
    "    - 100,000 loops each: During each run, the code was executed 100,000 times, ensuring that the reported average is reliable."
   ]
  },
  {
   "cell_type": "markdown",
   "id": "a08ce69c-7915-455d-861b-0d8b81c9ec19",
   "metadata": {},
   "source": [
    "## Summary\n",
    "NumPy arrays are way faster because two things:\n",
    "- **Vectorization**: Vectorization describes the absence of any explicit, looping, indexing, etc. In the code - these are optimized in C pre-compiled code.\n",
    "- **Broadcasting**: Broadcasting is the term used to describe element-by-element behaviour of operations.\n",
    "\n",
    "In summary, these two things are the key that makes NumPy arrays operation is faster compared to Python's built-in `list`."
   ]
  }
 ],
 "metadata": {
  "kernelspec": {
   "display_name": "Python 3 (ipykernel)",
   "language": "python",
   "name": "python3"
  },
  "language_info": {
   "codemirror_mode": {
    "name": "ipython",
    "version": 3
   },
   "file_extension": ".py",
   "mimetype": "text/x-python",
   "name": "python",
   "nbconvert_exporter": "python",
   "pygments_lexer": "ipython3",
   "version": "3.12.7"
  }
 },
 "nbformat": 4,
 "nbformat_minor": 5
}
